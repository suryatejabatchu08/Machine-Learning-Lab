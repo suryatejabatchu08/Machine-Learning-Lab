{
  "cells": [
    {
      "cell_type": "markdown",
      "metadata": {
        "id": "view-in-github",
        "colab_type": "text"
      },
      "source": [
        "<a href=\"https://colab.research.google.com/github/suryatejabatchu08/Machine-Learning-Lab/blob/main/lab1_AP23110010549.ipynb\" target=\"_parent\"><img src=\"https://colab.research.google.com/assets/colab-badge.svg\" alt=\"Open In Colab\"/></a>"
      ]
    },
    {
      "cell_type": "markdown",
      "id": "20dc80e4",
      "metadata": {
        "id": "20dc80e4"
      },
      "source": [
        "# 🧑‍💻 NumPy Complete Guided Project\n",
        "**Instructor / Student Colab Notebook** – covers *all* key concepts from `Numpy‑1` to `Numpy‑5`.\n",
        "\n",
        "*Generated: 08 Aug 2025*"
      ]
    },
    {
      "cell_type": "markdown",
      "id": "e8b8b6cf",
      "metadata": {
        "id": "e8b8b6cf"
      },
      "source": [
        "\n",
        "**Table of Contents**\n",
        "\n",
        "1. [Setup](#setup)  \n",
        "2. [Array Creation & Dtypes](#creation)  \n",
        "3. [Array Attributes & Inspection](#attributes)  \n",
        "4. [Indexing, Slicing, Fancy Indexing](#indexing)  \n",
        "5. [Reshaping, Transpose & Copies vs Views](#reshape)  \n",
        "6. [Joining, Splitting, Set & Sorting Ops](#join)  \n",
        "7. [Arithmetic Ops, Universal Functions](#arithmetic)  \n",
        "8. [Broadcasting (Rules + Examples)](#broadcast)  \n",
        "9. [Statistics & Aggregations](#stats)  \n",
        "10. [Random Numbers & Reproducibility](#random)  \n",
        "11. [Structured / Recarrays](#structured)  \n",
        "12. [Linear Algebra Essentials](#linalg)  \n",
        "13. [File I/O (`npy`, `npz`, `txt`)](#io)  \n",
        "14. [Datetime64 & Timedelta64](#datetime)  \n",
        "15. [Masked Arrays & NaNs](#mask)  \n",
        "16. [Mini‑Project — Fitness Data Analysis](#project)  \n",
        "17. [Conclusion & Next Steps](#conclusion)  \n"
      ]
    },
    {
      "cell_type": "markdown",
      "id": "9170f3ee",
      "metadata": {
        "id": "9170f3ee"
      },
      "source": [
        "## <a name='setup'></a>1️⃣ Setup"
      ]
    },
    {
      "cell_type": "code",
      "execution_count": 8,
      "id": "4f54988f",
      "metadata": {
        "colab": {
          "base_uri": "https://localhost:8080/"
        },
        "id": "4f54988f",
        "outputId": "d7241db0-deeb-4525-8a9e-8643e3c8fe6f"
      },
      "outputs": [
        {
          "output_type": "stream",
          "name": "stdout",
          "text": [
            "NumPy version: 2.0.2\n"
          ]
        }
      ],
      "source": [
        "import numpy as np, math, os, pathlib, types, textwrap, random\n",
        "print('NumPy version:', np.__version__)"
      ]
    },
    {
      "cell_type": "markdown",
      "id": "c7f7b2c8",
      "metadata": {
        "id": "c7f7b2c8"
      },
      "source": [
        "## <a name='creation'></a>2️⃣ Array Creation & Dtypes"
      ]
    },
    {
      "cell_type": "markdown",
      "id": "47405152",
      "metadata": {
        "id": "47405152"
      },
      "source": [
        "Key functions: `np.array`, `np.arange`, `np.linspace`, `zeros`, `ones`, `full`, `eye`, `identity`, `diag`, `empty`"
      ]
    },
    {
      "cell_type": "code",
      "execution_count": 9,
      "id": "801e99ad",
      "metadata": {
        "colab": {
          "base_uri": "https://localhost:8080/"
        },
        "id": "801e99ad",
        "outputId": "49311720-8cb4-4ee7-b7ea-f3f91dbb1803"
      },
      "outputs": [
        {
          "output_type": "stream",
          "name": "stdout",
          "text": [
            "[1 2 3]\n",
            "[0.  0.2 0.4 0.6 0.8 1. ]\n",
            "[[7.5 7.5 7.5]\n",
            " [7.5 7.5 7.5]]\n",
            "dtypes: int32 float64\n"
          ]
        }
      ],
      "source": [
        "# EXAMPLE\n",
        "arr1 = np.array([1, 2, 3], dtype=np.int32)\n",
        "arr2 = np.linspace(0, 1, 6)\n",
        "arr3 = np.full((2,3), 7.5)\n",
        "print(arr1, arr2, arr3, sep=\"\\n\")\n",
        "print(\"dtypes:\", arr1.dtype, arr2.dtype)\n"
      ]
    },
    {
      "cell_type": "code",
      "execution_count": 10,
      "id": "dc63d076",
      "metadata": {
        "colab": {
          "base_uri": "https://localhost:8080/"
        },
        "id": "dc63d076",
        "outputId": "f12605ed-97b2-433d-8f32-6bae2eac5d0d"
      },
      "outputs": [
        {
          "output_type": "stream",
          "name": "stdout",
          "text": [
            "[[0 1 0 1 0 1 0 1 0 1]\n",
            " [1 0 1 0 1 0 1 0 1 0]\n",
            " [0 1 0 1 0 1 0 1 0 1]\n",
            " [1 0 1 0 1 0 1 0 1 0]\n",
            " [0 1 0 1 0 1 0 1 0 1]\n",
            " [1 0 1 0 1 0 1 0 1 0]\n",
            " [0 1 0 1 0 1 0 1 0 1]\n",
            " [1 0 1 0 1 0 1 0 1 0]\n",
            " [0 1 0 1 0 1 0 1 0 1]\n",
            " [1 0 1 0 1 0 1 0 1 0]]\n"
          ]
        }
      ],
      "source": [
        "# 🖊️ TODO: create a 10×10 chessboard pattern using zeros & ones\n",
        "chess_board = np.zeros((10,10), dtype=int)\n",
        "chess_board[1::2, ::2] = 1\n",
        "chess_board[::2, 1::2] = 1\n",
        "print(chess_board)"
      ]
    },
    {
      "cell_type": "markdown",
      "id": "925be762",
      "metadata": {
        "id": "925be762"
      },
      "source": [
        "## <a name='attributes'></a>3️⃣ Array Attributes & Inspection"
      ]
    },
    {
      "cell_type": "markdown",
      "id": "f103bb36",
      "metadata": {
        "id": "f103bb36"
      },
      "source": [
        "`shape`, `ndim`, `size`, `dtype`, `itemsize`, `nbytes`"
      ]
    },
    {
      "cell_type": "code",
      "execution_count": 11,
      "id": "ad3eeda1",
      "metadata": {
        "id": "ad3eeda1",
        "colab": {
          "base_uri": "https://localhost:8080/"
        },
        "outputId": "dde7725f-5a1d-48dd-8f65-30d98f04b149"
      },
      "outputs": [
        {
          "output_type": "stream",
          "name": "stdout",
          "text": [
            "shape (3, 4) ndim 2 size 12 itemsize 8 total bytes 96\n"
          ]
        }
      ],
      "source": [
        "M = np.arange(12).reshape(3,4)\n",
        "print('shape', M.shape, 'ndim', M.ndim, 'size', M.size, 'itemsize', M.itemsize, 'total bytes', M.nbytes)\n"
      ]
    },
    {
      "cell_type": "code",
      "execution_count": 12,
      "id": "5875fefe",
      "metadata": {
        "colab": {
          "base_uri": "https://localhost:8080/"
        },
        "id": "5875fefe",
        "outputId": "6edec865-fd69-4cb4-e05d-a5f46d5dd925"
      },
      "outputs": [
        {
          "output_type": "stream",
          "name": "stdout",
          "text": [
            "Memory footprint of 1000x1000 float64 array: 8000000 bytes\n"
          ]
        }
      ],
      "source": [
        "# 🖊️ TODO: check memory footprint of a 1000×1000 float64 array\n",
        "arr_large = np.zeros((1000, 1000), dtype=np.float64)\n",
        "print(\"Memory footprint of 1000x1000 float64 array:\", arr_large.nbytes, \"bytes\")"
      ]
    },
    {
      "cell_type": "markdown",
      "id": "bd895660",
      "metadata": {
        "id": "bd895660"
      },
      "source": [
        "## <a name='indexing'></a>4️⃣ Indexing, Slicing & Fancy Indexing"
      ]
    },
    {
      "cell_type": "code",
      "execution_count": 13,
      "id": "5dc7d4c1",
      "metadata": {
        "colab": {
          "base_uri": "https://localhost:8080/"
        },
        "id": "5dc7d4c1",
        "outputId": "f6de6cbd-9087-4d86-9234-bcc232e981bb"
      },
      "outputs": [
        {
          "output_type": "stream",
          "name": "stdout",
          "text": [
            "[ 1  6 11 16 21]\n",
            "[[ 1  3  5]\n",
            " [11 13 15]\n",
            " [21 23 25]]\n",
            "multiples of 3: [ 3  6  9 12 15 18 21 24]\n"
          ]
        }
      ],
      "source": [
        "a = np.arange(1,26).reshape(5,5)\n",
        "print(a[:, 0])     # first column\n",
        "print(a[::2, ::2]) # every 2nd row/col\n",
        "mask = (a % 3 == 0)\n",
        "print('multiples of 3:', a[mask])\n"
      ]
    },
    {
      "cell_type": "code",
      "execution_count": 14,
      "id": "9c4bd5f4",
      "metadata": {
        "colab": {
          "base_uri": "https://localhost:8080/"
        },
        "id": "9c4bd5f4",
        "outputId": "44226745-15e8-4254-e0e7-ea1fb086b294"
      },
      "outputs": [
        {
          "output_type": "stream",
          "name": "stdout",
          "text": [
            "[[21 22 23 24 25]\n",
            " [ 6  7  8  9 10]\n",
            " [11 12 13 14 15]\n",
            " [16 17 18 19 20]\n",
            " [ 1  2  3  4  5]]\n"
          ]
        }
      ],
      "source": [
        "# 🖊️ TODO: use fancy indexing to swap first and last rows of `a`\n",
        "a[[0, -1], :] = a[[-1, 0], :]\n",
        "print(a)"
      ]
    },
    {
      "cell_type": "markdown",
      "id": "8f4de1d5",
      "metadata": {
        "id": "8f4de1d5"
      },
      "source": [
        "## <a name='reshape'></a>5️⃣ Reshaping, Transpose & Copies vs Views"
      ]
    },
    {
      "cell_type": "code",
      "execution_count": 15,
      "id": "053b4ff4",
      "metadata": {
        "id": "053b4ff4",
        "colab": {
          "base_uri": "https://localhost:8080/"
        },
        "outputId": "0d8f8e51-9eb8-48e3-a931-cd1cdbc17284"
      },
      "outputs": [
        {
          "output_type": "stream",
          "name": "stdout",
          "text": [
            "b is modified: [99  1  2  3  4  5  6  7]\n",
            "b unchanged with copy: [99  1  2  3  4  5  6  7]\n"
          ]
        }
      ],
      "source": [
        "b = np.arange(8)\n",
        "B = b.reshape(2,4)\n",
        "B[0,0] = 99\n",
        "print('b is modified:', b)\n",
        "C = b.reshape(2,4).copy()\n",
        "C[0,0] = -1\n",
        "print('b unchanged with copy:', b)\n"
      ]
    },
    {
      "cell_type": "code",
      "execution_count": 16,
      "id": "a3e599bd",
      "metadata": {
        "colab": {
          "base_uri": "https://localhost:8080/"
        },
        "id": "a3e599bd",
        "outputId": "b1be8e87-7434-4562-accb-654d46da0af6"
      },
      "outputs": [
        {
          "output_type": "stream",
          "name": "stdout",
          "text": [
            "Original 3D array:\n",
            " [[[ 0  1  2  3]\n",
            "  [ 4  5  6  7]\n",
            "  [ 8  9 10 11]]\n",
            "\n",
            " [[12 13 14 15]\n",
            "  [16 17 18 19]\n",
            "  [20 21 22 23]]]\n",
            "\n",
            "Ravelled array (modified):\n",
            " [-1  1  2  3  4  5  6  7  8  9 10 11 12 13 14 15 16 17 18 19 20 21 22 23]\n",
            "Original 3D array after modifying raveled array:\n",
            " [[[-1  1  2  3]\n",
            "  [ 4  5  6  7]\n",
            "  [ 8  9 10 11]]\n",
            "\n",
            " [[12 13 14 15]\n",
            "  [16 17 18 19]\n",
            "  [20 21 22 23]]]\n",
            "\n",
            "Flattened array (modified):\n",
            " [99  1  2  3  4  5  6  7  8  9 10 11 12 13 14 15 16 17 18 19 20 21 22 23]\n",
            "Original 3D array after modifying flattened array:\n",
            " [[[-1  1  2  3]\n",
            "  [ 4  5  6  7]\n",
            "  [ 8  9 10 11]]\n",
            "\n",
            " [[12 13 14 15]\n",
            "  [16 17 18 19]\n",
            "  [20 21 22 23]]]\n"
          ]
        }
      ],
      "source": [
        "# 🖊️ TODO: Flatten a 3‑D array into 1‑D using both `ravel` and `flatten`; observe copy vs view.\n",
        "arr_3d = np.arange(24).reshape(2, 3, 4)\n",
        "print(\"Original 3D array:\\n\", arr_3d)\n",
        "\n",
        "# Using ravel\n",
        "ravelled_arr = arr_3d.ravel()\n",
        "ravelled_arr[0] = -1 # Modify the raveled array\n",
        "print(\"\\nRavelled array (modified):\\n\", ravelled_arr)\n",
        "print(\"Original 3D array after modifying raveled array:\\n\", arr_3d) # Check if original is modified\n",
        "\n",
        "# Using flatten\n",
        "flattened_arr = arr_3d.flatten()\n",
        "flattened_arr[0] = 99 # Modify the flattened array\n",
        "print(\"\\nFlattened array (modified):\\n\", flattened_arr)\n",
        "print(\"Original 3D array after modifying flattened array:\\n\", arr_3d) # Check if original is modified"
      ]
    },
    {
      "cell_type": "markdown",
      "id": "2390c4ae",
      "metadata": {
        "id": "2390c4ae"
      },
      "source": [
        "## <a name='join'></a>6️⃣ Joining, Splitting, Set & Sorting Ops"
      ]
    },
    {
      "cell_type": "code",
      "execution_count": 17,
      "id": "a53f640a",
      "metadata": {
        "colab": {
          "base_uri": "https://localhost:8080/"
        },
        "id": "a53f640a",
        "outputId": "03cbc0f8-b171-48cd-a606-cf20c415a97d"
      },
      "outputs": [
        {
          "output_type": "stream",
          "name": "stdout",
          "text": [
            "union [1 2 3 4 5 6]\n",
            "intersect [1 2]\n",
            "sorted descending [6 5 4 3 2 1]\n"
          ]
        }
      ],
      "source": [
        "x = np.array([1,3,5]); y = np.array([2,4,6])\n",
        "xy = np.concatenate([x,y])\n",
        "print('union', np.union1d(x,y))\n",
        "print('intersect', np.intersect1d(xy,[1,2,10]))\n",
        "print('sorted descending', np.sort(xy)[::-1])\n"
      ]
    },
    {
      "cell_type": "code",
      "execution_count": 21,
      "id": "4231e729",
      "metadata": {
        "id": "4231e729",
        "colab": {
          "base_uri": "https://localhost:8080/"
        },
        "outputId": "fbb74f2b-f9de-4123-cafc-fb58a686fc1f"
      },
      "outputs": [
        {
          "output_type": "stream",
          "name": "stdout",
          "text": [
            "split: [1 3 5] [2 4 6]\n"
          ]
        }
      ],
      "source": [
        "# 🖊️ TODO: split `xy` back into two equal halves using `np.array_split`\n",
        "x_split, y_split = np.array_split(xy, 2)\n",
        "print('split:', x_split, y_split)"
      ]
    },
    {
      "cell_type": "markdown",
      "id": "e6ebeb68",
      "metadata": {
        "id": "e6ebeb68"
      },
      "source": [
        "## <a name='arithmetic'></a>7️⃣ Arithmetic Ops & Universal Functions"
      ]
    },
    {
      "cell_type": "code",
      "execution_count": 22,
      "id": "04a6eda9",
      "metadata": {
        "colab": {
          "base_uri": "https://localhost:8080/"
        },
        "id": "04a6eda9",
        "outputId": "ed959a3c-503b-4420-ee10-7153965d9488"
      },
      "outputs": [
        {
          "output_type": "stream",
          "name": "stdout",
          "text": [
            "exp [ 1.          2.71828183  7.3890561  20.08553692 54.59815003]\n",
            "sin [ 0.          0.84147098  0.90929743  0.14112001 -0.7568025 ]\n",
            "vectorised addition [10 11 12 13 14]\n"
          ]
        }
      ],
      "source": [
        "v = np.arange(5)\n",
        "print('exp', np.exp(v))\n",
        "print('sin', np.sin(v))\n",
        "print('vectorised addition', v + 10)\n"
      ]
    },
    {
      "cell_type": "code",
      "execution_count": 24,
      "id": "c011f422",
      "metadata": {
        "id": "c011f422",
        "colab": {
          "base_uri": "https://localhost:8080/"
        },
        "outputId": "2498146a-7af0-42f4-d627-20d27de24285"
      },
      "outputs": [
        {
          "output_type": "stream",
          "name": "stdout",
          "text": [
            "Degrees: [ 0 30 45 60 90]\n",
            "Radians: [0.         0.52359878 0.78539816 1.04719755 1.57079633]\n",
            "Sin values: [0.         0.5        0.70710678 0.8660254  1.        ]\n"
          ]
        }
      ],
      "source": [
        "# 🖊️ TODO: given degrees [0,30,45,60,90], compute radians and sin values.\n",
        "degrees = np.array([0, 30, 45, 60, 90])\n",
        "radians = np.deg2rad(degrees)\n",
        "sin_values = np.sin(radians)\n",
        "print(\"Degrees:\", degrees)\n",
        "print(\"Radians:\", radians)\n",
        "print(\"Sin values:\", sin_values)"
      ]
    },
    {
      "cell_type": "markdown",
      "id": "7c9a5d70",
      "metadata": {
        "id": "7c9a5d70"
      },
      "source": [
        "## <a name='broadcast'></a>8️⃣ Broadcasting Rules"
      ]
    },
    {
      "cell_type": "markdown",
      "id": "aba2764d",
      "metadata": {
        "id": "aba2764d"
      },
      "source": [
        "Rules: compare dimensions from right → left; stretch size 1 dims; mismatch error."
      ]
    },
    {
      "cell_type": "code",
      "execution_count": 25,
      "id": "6313899c",
      "metadata": {
        "id": "6313899c",
        "colab": {
          "base_uri": "https://localhost:8080/"
        },
        "outputId": "90fe4439-0455-4a84-de06-19319a8e4e22"
      },
      "outputs": [
        {
          "output_type": "stream",
          "name": "stdout",
          "text": [
            "[[0 1 2 3 4]\n",
            " [1 2 3 4 5]\n",
            " [2 3 4 5 6]]\n"
          ]
        }
      ],
      "source": [
        "row = np.arange(5)\n",
        "col = np.arange(3).reshape(3,1)\n",
        "matrix = row + col  # broadcast to 3×5\n",
        "print(matrix)\n"
      ]
    },
    {
      "cell_type": "code",
      "execution_count": 33,
      "id": "de718119",
      "metadata": {
        "id": "de718119",
        "colab": {
          "base_uri": "https://localhost:8080/"
        },
        "outputId": "3e8d6682-15ea-4f7a-ed9a-a7e495b81a6f"
      },
      "outputs": [
        {
          "output_type": "stream",
          "name": "stdout",
          "text": [
            "[[  1   2   3   4   5   6   7   8   9  10]\n",
            " [  2   4   6   8  10  12  14  16  18  20]\n",
            " [  3   6   9  12  15  18  21  24  27  30]\n",
            " [  4   8  12  16  20  24  28  32  36  40]\n",
            " [  5  10  15  20  25  30  35  40  45  50]\n",
            " [  6  12  18  24  30  36  42  48  54  60]\n",
            " [  7  14  21  28  35  42  49  56  63  70]\n",
            " [  8  16  24  32  40  48  56  64  72  80]\n",
            " [  9  18  27  36  45  54  63  72  81  90]\n",
            " [ 10  20  30  40  50  60  70  80  90 100]]\n"
          ]
        }
      ],
      "source": [
        "# 🖊️ TODO: use broadcasting to create a 10×10 multiplication table.\n",
        "table = np.arange(1,11).reshape(10,1) * np.arange(1, 11)\n",
        "print(table)"
      ]
    },
    {
      "cell_type": "markdown",
      "id": "38a618c8",
      "metadata": {
        "id": "38a618c8"
      },
      "source": [
        "## <a name='stats'></a>9️⃣ Statistics & Aggregations"
      ]
    },
    {
      "cell_type": "code",
      "execution_count": 34,
      "id": "af9ac70d",
      "metadata": {
        "id": "af9ac70d",
        "colab": {
          "base_uri": "https://localhost:8080/"
        },
        "outputId": "d50c6feb-20f3-4daf-fa85-fd8e261e7ba5"
      },
      "outputs": [
        {
          "output_type": "stream",
          "name": "stdout",
          "text": [
            "data\n",
            " [[85 64 51 27]\n",
            " [31  5  8  2]\n",
            " [18 81 65 91]\n",
            " [50 61 97 73]\n",
            " [63 54 56 93]]\n",
            "row sums [227  46 255 281 266]\n",
            "col means [49.4 53.  55.4 57.2]\n"
          ]
        }
      ],
      "source": [
        "data = np.random.default_rng(0).integers(1, 100, size=(5,4))\n",
        "print('data\\n', data)\n",
        "print('row sums', data.sum(axis=1))\n",
        "print('col means', data.mean(axis=0))\n"
      ]
    },
    {
      "cell_type": "code",
      "execution_count": 35,
      "id": "63adf5be",
      "metadata": {
        "id": "63adf5be",
        "colab": {
          "base_uri": "https://localhost:8080/"
        },
        "outputId": "651923ea-c006-4fab-f4a3-9d5ad1d6c746"
      },
      "outputs": [
        {
          "output_type": "stream",
          "name": "stdout",
          "text": [
            "25th, 50th, and 75th percentiles of flattened data: [30.  58.5 75. ]\n"
          ]
        }
      ],
      "source": [
        "# 🖊️ TODO: compute `np.percentile` (25th, 50th, 75th) of flattened `data`.\n",
        "percentiles = np.percentile(data.flatten(), [25, 50, 75])\n",
        "print(\"25th, 50th, and 75th percentiles of flattened data:\", percentiles)"
      ]
    },
    {
      "cell_type": "markdown",
      "id": "8f3c00d7",
      "metadata": {
        "id": "8f3c00d7"
      },
      "source": [
        "## <a name='random'></a>🔟 Random Numbers & Reproducibility"
      ]
    },
    {
      "cell_type": "code",
      "execution_count": 41,
      "id": "98016975",
      "metadata": {
        "id": "98016975",
        "colab": {
          "base_uri": "https://localhost:8080/"
        },
        "outputId": "259bc3f5-45d6-4b34-c836-d1efd04cd8cd"
      },
      "outputs": [
        {
          "output_type": "stream",
          "name": "stdout",
          "text": [
            "[0.77395605 0.43887844 0.85859792 0.69736803 0.09417735] [31 49 39 40 38]\n"
          ]
        }
      ],
      "source": [
        "rng = np.random.default_rng(42)\n",
        "rand_floats = rng.random(5)\n",
        "rand_ints = rng.integers(low=10, high=50, size=5)\n",
        "print(rand_floats, rand_ints)\n",
        "rng2 = np.random.default_rng(42)\n",
        "assert np.allclose(rand_floats, rng2.random(5))\n"
      ]
    },
    {
      "cell_type": "code",
      "execution_count": 42,
      "id": "35dbadba",
      "metadata": {
        "id": "35dbadba",
        "colab": {
          "base_uri": "https://localhost:8080/"
        },
        "outputId": "c41a4110-63fc-4d2e-b02b-e7451c85c343"
      },
      "outputs": [
        {
          "output_type": "stream",
          "name": "stdout",
          "text": [
            "Proportion of 6s: 0.12\n"
          ]
        }
      ],
      "source": [
        "# 🖊️ TODO: simulate rolling a fair six‑sided die 100 times; estimate proportion of 6s.\n",
        "die_rolls = rng.integers(1, 7, size=100)\n",
        "proportion_of_sixes = np.sum(die_rolls == 6) / len(die_rolls)\n",
        "print(\"Proportion of 6s:\", proportion_of_sixes)"
      ]
    },
    {
      "cell_type": "markdown",
      "id": "6cdb04b2",
      "metadata": {
        "id": "6cdb04b2"
      },
      "source": [
        "## <a name='structured'></a>1️⃣1️⃣ Structured / Record Arrays"
      ]
    },
    {
      "cell_type": "code",
      "execution_count": 44,
      "id": "d8f64e42",
      "metadata": {
        "id": "d8f64e42",
        "colab": {
          "base_uri": "https://localhost:8080/"
        },
        "outputId": "a7e3ca5c-6d40-417b-e3a4-5e6a07c877c2"
      },
      "outputs": [
        {
          "output_type": "stream",
          "name": "stdout",
          "text": [
            "['Alice' 'Bob'] 27.5\n"
          ]
        }
      ],
      "source": [
        "people = np.array([('Alice', 25, 55.0), ('Bob', 30, 85.5)],\n",
        "                   dtype=[('name','U10'), ('age','i4'), ('weight','f4')])\n",
        "print(people['name'], people['age'].mean())\n"
      ]
    },
    {
      "cell_type": "code",
      "execution_count": 45,
      "id": "7a65fe1d",
      "metadata": {
        "id": "7a65fe1d",
        "colab": {
          "base_uri": "https://localhost:8080/"
        },
        "outputId": "1435790e-cdad-4b30-8453-fe0effa7ac81"
      },
      "outputs": [
        {
          "output_type": "stream",
          "name": "stdout",
          "text": [
            "[('Alice', 25, 55. , 1.65) ('Bob', 30, 85.5, 1.8 )]\n"
          ]
        }
      ],
      "source": [
        "# 🖊️ TODO: add a new field 'height' to the structured array using `np.lib.recfunctions.append_fields` (hint: pip install?).\n",
        "from numpy.lib.recfunctions import append_fields\n",
        "heights = np.array([1.65, 1.80], dtype='f4')\n",
        "people_with_height = append_fields(people, 'height', heights, usemask=False)\n",
        "print(people_with_height)"
      ]
    },
    {
      "cell_type": "markdown",
      "id": "df5b617b",
      "metadata": {
        "id": "df5b617b"
      },
      "source": [
        "## <a name='linalg'></a>1️⃣2️⃣ Linear Algebra Essentials"
      ]
    },
    {
      "cell_type": "code",
      "execution_count": 46,
      "id": "3f7fb475",
      "metadata": {
        "id": "3f7fb475",
        "colab": {
          "base_uri": "https://localhost:8080/"
        },
        "outputId": "1194c92f-4772-4f81-e3ae-9772fed943b1"
      },
      "outputs": [
        {
          "output_type": "stream",
          "name": "stdout",
          "text": [
            "A·x ≈ b? True\n"
          ]
        }
      ],
      "source": [
        "A = np.random.random((3,3))\n",
        "b = np.random.random(3)\n",
        "x = np.linalg.solve(A, b)\n",
        "print('A·x ≈ b?', np.allclose(A.dot(x), b))\n"
      ]
    },
    {
      "cell_type": "code",
      "execution_count": 47,
      "id": "a8fb02d7",
      "metadata": {
        "id": "a8fb02d7",
        "colab": {
          "base_uri": "https://localhost:8080/"
        },
        "outputId": "d9cc2723-7e58-4800-eeee-9ac012b06302"
      },
      "outputs": [
        {
          "output_type": "stream",
          "name": "stdout",
          "text": [
            "Eigenvalues of A: [ 1.81994565 -0.24667861  0.37791831]\n",
            "Eigenvectors of A:\n",
            " [[-0.80857375 -0.77400386  0.40943307]\n",
            " [-0.45103114  0.38061824 -0.76518389]\n",
            " [-0.37786161  0.50601164  0.49684824]]\n"
          ]
        }
      ],
      "source": [
        "# 🖊️ TODO: compute eigenvalues of `A` using `np.linalg.eig`.\n",
        "eigenvalues, eigenvectors = np.linalg.eig(A)\n",
        "print(\"Eigenvalues of A:\", eigenvalues)\n",
        "print(\"Eigenvectors of A:\\n\", eigenvectors)"
      ]
    },
    {
      "cell_type": "markdown",
      "id": "e8fd753c",
      "metadata": {
        "id": "e8fd753c"
      },
      "source": [
        "## <a name='io'></a>1️⃣3️⃣ File I/O (`npy`, `npz`, `txt`)"
      ]
    },
    {
      "cell_type": "code",
      "execution_count": 48,
      "id": "bd6dc026",
      "metadata": {
        "id": "bd6dc026",
        "colab": {
          "base_uri": "https://localhost:8080/"
        },
        "outputId": "ca4dda75-10ba-439c-d7c8-c50e8fc09bbd"
      },
      "outputs": [
        {
          "output_type": "stream",
          "name": "stdout",
          "text": [
            "loaded equals A? True\n"
          ]
        }
      ],
      "source": [
        "np.save('array.npy', A)\n",
        "loaded = np.load('array.npy')\n",
        "print('loaded equals A?', np.allclose(loaded, A))\n",
        "np.savez('multi_arrays.npz', A=A, b=b)\n"
      ]
    },
    {
      "cell_type": "code",
      "execution_count": 51,
      "id": "d9552893",
      "metadata": {
        "id": "d9552893",
        "colab": {
          "base_uri": "https://localhost:8080/"
        },
        "outputId": "61552cb8-e336-43fc-f6f4-a3cfababe79c"
      },
      "outputs": [
        {
          "output_type": "stream",
          "name": "stdout",
          "text": [
            "Loaded data equals original data? True\n"
          ]
        }
      ],
      "source": [
        "# 🖊️ TODO: Use `np.savetxt` to write `data` (from stats section) to CSV then reload with `np.loadtxt`.\n",
        "np.savetxt('data.csv', data, delimiter=',')\n",
        "loaded_data = np.loadtxt('data.csv', delimiter=',')\n",
        "print('Loaded data equals original data?', np.allclose(loaded_data, data))"
      ]
    },
    {
      "cell_type": "markdown",
      "id": "f24f33e3",
      "metadata": {
        "id": "f24f33e3"
      },
      "source": [
        "## <a name='datetime'></a>1️⃣4️⃣ Datetime64 & Timedelta64"
      ]
    },
    {
      "cell_type": "code",
      "execution_count": 59,
      "id": "3ce7b543",
      "metadata": {
        "id": "3ce7b543",
        "colab": {
          "base_uri": "https://localhost:8080/"
        },
        "outputId": "2a58cc53-9926-4ea5-d0fc-6fb59bd113b9"
      },
      "outputs": [
        {
          "output_type": "stream",
          "name": "stdout",
          "text": [
            "['2023-01-01' '2023-01-02' '2023-01-03' '2023-01-04' '2023-01-05'] 1 days\n"
          ]
        }
      ],
      "source": [
        "dates = np.arange('2023-01', '2023-04', dtype='datetime64[D]')\n",
        "delta = dates[1:] - dates[:-1]\n",
        "print(dates[:5], delta[0])\n"
      ]
    },
    {
      "cell_type": "code",
      "execution_count": 60,
      "id": "e493d6f8",
      "metadata": {
        "id": "e493d6f8",
        "colab": {
          "base_uri": "https://localhost:8080/"
        },
        "outputId": "c5f8c664-9166-4055-f748-26e5678d3fa2"
      },
      "outputs": [
        {
          "output_type": "stream",
          "name": "stdout",
          "text": [
            "Number of Mondays in the dates array: 13\n"
          ]
        }
      ],
      "source": [
        "# 🖊️ TODO: find how many Mondays appear in `dates` array.\n",
        "mondays = np.busday_count(dates[0], dates[-1], weekmask='Mon')\n",
        "print(\"Number of Mondays in the dates array:\", mondays)"
      ]
    },
    {
      "cell_type": "markdown",
      "id": "636116b9",
      "metadata": {
        "id": "636116b9"
      },
      "source": [
        "## <a name='mask'></a>1️⃣5️⃣ Masked Arrays & NaNs"
      ]
    },
    {
      "cell_type": "code",
      "execution_count": 61,
      "id": "ec30b3ee",
      "metadata": {
        "id": "ec30b3ee",
        "colab": {
          "base_uri": "https://localhost:8080/"
        },
        "outputId": "c21ae9b0-6a0d-4ae8-cf47-431e82f50127"
      },
      "outputs": [
        {
          "output_type": "stream",
          "name": "stdout",
          "text": [
            "2.3333333333333335\n"
          ]
        }
      ],
      "source": [
        "arr = np.array([1, 2, np.nan, 4, np.nan])\n",
        "masked = np.ma.masked_invalid(arr)\n",
        "print(masked.mean())\n"
      ]
    },
    {
      "cell_type": "code",
      "execution_count": 62,
      "id": "1ead3a9c",
      "metadata": {
        "id": "1ead3a9c",
        "colab": {
          "base_uri": "https://localhost:8080/"
        },
        "outputId": "be704723-6460-4812-aadd-b61e0b5cb738"
      },
      "outputs": [
        {
          "output_type": "stream",
          "name": "stdout",
          "text": [
            "Array with NaNs replaced by column means:\n",
            " [[ 1.          2.         11.          4.        ]\n",
            " [ 5.          8.66666667  7.          8.        ]\n",
            " [ 9.         10.         11.          9.33333333]\n",
            " [13.         14.         15.         16.        ]]\n"
          ]
        }
      ],
      "source": [
        "# 🖊️ TODO: replace NaNs with column means in a 2‑D array containing NaNs.\n",
        "arr_2d_nan = np.array([[1, 2, np.nan, 4],\n",
        "                       [5, np.nan, 7, 8],\n",
        "                       [9, 10, 11, np.nan],\n",
        "                       [13, 14, 15, 16]])\n",
        "col_means = np.nanmean(arr_2d_nan, axis=0)\n",
        "nan_indices = np.isnan(arr_2d_nan)\n",
        "arr_2d_nan[nan_indices] = np.take(col_means, np.where(nan_indices)[1])\n",
        "print(\"Array with NaNs replaced by column means:\\n\", arr_2d_nan)"
      ]
    },
    {
      "cell_type": "markdown",
      "id": "509e6104",
      "metadata": {
        "id": "509e6104"
      },
      "source": [
        "## <a name='project'></a>1️⃣6️⃣ Mini‑Project: Fitness Data Analysis"
      ]
    },
    {
      "cell_type": "markdown",
      "id": "d867d3a6",
      "metadata": {
        "id": "d867d3a6"
      },
      "source": [
        "Load `fitness.txt` (tab‑separated) then follow prompts."
      ]
    },
    {
      "cell_type": "code",
      "execution_count": 64,
      "id": "593e50db",
      "metadata": {
        "id": "593e50db",
        "colab": {
          "base_uri": "https://localhost:8080/"
        },
        "outputId": "32f62037-975c-4dde-f19e-b1cd03a112d7"
      },
      "outputs": [
        {
          "output_type": "stream",
          "name": "stdout",
          "text": [
            "columns: ('date', 'step_count', 'mood', 'calories_burned', 'hours_of_sleep', 'bool_of_active', 'weight_kg') rows: 96\n"
          ]
        }
      ],
      "source": [
        "fitness = np.genfromtxt('fitness.txt', delimiter='\\t', dtype=None, encoding=None, names=True)\n",
        "print('columns:', fitness.dtype.names, 'rows:', len(fitness))\n"
      ]
    },
    {
      "cell_type": "code",
      "execution_count": 65,
      "id": "32e514d2",
      "metadata": {
        "id": "32e514d2",
        "colab": {
          "base_uri": "https://localhost:8080/"
        },
        "outputId": "1c4764aa-2ee3-4662-c8b9-dbed2e51607e"
      },
      "outputs": [
        {
          "output_type": "stream",
          "name": "stdout",
          "text": [
            "Monthly Step Count:\n",
            " month\n",
            "2017-10     79051\n",
            "2017-11    103071\n",
            "2017-12     89565\n",
            "2018-01     10163\n",
            "Freq: M, Name: step_count, dtype: int64\n",
            "\n",
            "Sleep vs Mood Correlation: 0.2104166644730015\n",
            "\n",
            "Weekly Summary:\n",
            "       step_count  hours_of_sleep        mood  calories_burned\n",
            "week                                                         \n",
            "1           5833        3.714286  171.428571              168\n",
            "2           4330        5.000000  250.000000                0\n",
            "40         11530        6.000000  133.333333              378\n",
            "41         23810        5.571429  114.285714              765\n",
            "42         20669        6.428571  128.571429              657\n",
            "43         16283        5.571429  214.285714              521\n",
            "44         20598        5.142857  285.714286              665\n",
            "45         31217        4.714286  285.714286             1012\n",
            "46         17714        5.571429  285.714286              589\n",
            "47         27859        5.714286  300.000000              917\n",
            "48         18701        6.428571  257.142857              601\n",
            "49         21178        5.428571  214.285714              683\n",
            "50         22628        4.285714  185.714286              728\n",
            "51         20682        4.857143  142.857143              672\n",
            "52         18818        4.142857  185.714286              615\n"
          ]
        }
      ],
      "source": [
        "# 🖊️ TODO: Monthly step count, sleep vs mood correlation, weekly summary, etc.\n",
        "import pandas as pd\n",
        "fitness = np.genfromtxt('fitness.txt', delimiter=None, dtype=None, encoding=None, names=True)\n",
        "cols = [c.lstrip('#') for c in fitness.dtype.names]\n",
        "fitness.dtype.names = tuple(cols)\n",
        "df = pd.DataFrame(fitness)\n",
        "df['date'] = pd.to_datetime(df['date'], format='%d-%m-%Y')\n",
        "df['month'] = df['date'].dt.to_period('M')\n",
        "df['week'] = df['date'].dt.isocalendar().week\n",
        "monthly_steps = df.groupby('month')['step_count'].sum()\n",
        "sleep_mood_corr = df['hours_of_sleep'].corr(df['mood'])\n",
        "weekly_summary = df.groupby('week').agg({\n",
        "    'step_count': 'sum',\n",
        "    'hours_of_sleep': 'mean',\n",
        "    'mood': 'mean',\n",
        "    'calories_burned': 'sum'\n",
        "})\n",
        "print('Monthly Step Count:\\n', monthly_steps)\n",
        "print('\\nSleep vs Mood Correlation:', sleep_mood_corr)\n",
        "print('\\nWeekly Summary:\\n', weekly_summary)"
      ]
    },
    {
      "cell_type": "markdown",
      "id": "e7c0e1dc",
      "metadata": {
        "id": "e7c0e1dc"
      },
      "source": [
        "## <a name='conclusion'></a>1️⃣7️⃣ Conclusion & Further Practice\n",
        "Congrats on covering **all core NumPy topics** from your five lecture notebooks!\n",
        "\n",
        "*Keep experimenting, read the official docs, and try converting your NumPy pipelines into Pandas or JAX for more fun.*"
      ]
    }
  ],
  "metadata": {
    "colab": {
      "provenance": [],
      "include_colab_link": true
    },
    "language_info": {
      "name": "python"
    },
    "kernelspec": {
      "name": "python3",
      "display_name": "Python 3"
    }
  },
  "nbformat": 4,
  "nbformat_minor": 5
}