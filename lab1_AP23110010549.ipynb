{
  "cells": [
    {
      "cell_type": "markdown",
      "metadata": {
        "id": "view-in-github",
        "colab_type": "text"
      },
      "source": [
        "<a href=\"https://colab.research.google.com/github/suryatejabatchu08/Machine-Learning-Lab/blob/main/lab1_AP23110010549.ipynb\" target=\"_parent\"><img src=\"https://colab.research.google.com/assets/colab-badge.svg\" alt=\"Open In Colab\"/></a>"
      ]
    },
    {
      "cell_type": "markdown",
      "id": "20dc80e4",
      "metadata": {
        "id": "20dc80e4"
      },
      "source": [
        "# 🧑‍💻 NumPy Complete Guided Project\n",
        "**Instructor / Student Colab Notebook** – covers *all* key concepts from `Numpy‑1` to `Numpy‑5`.\n",
        "\n",
        "*Generated: 08 Aug 2025*"
      ]
    },
    {
      "cell_type": "markdown",
      "id": "e8b8b6cf",
      "metadata": {
        "id": "e8b8b6cf"
      },
      "source": [
        "\n",
        "**Table of Contents**\n",
        "\n",
        "1. [Setup](#setup)  \n",
        "2. [Array Creation & Dtypes](#creation)  \n",
        "3. [Array Attributes & Inspection](#attributes)  \n",
        "4. [Indexing, Slicing, Fancy Indexing](#indexing)  \n",
        "5. [Reshaping, Transpose & Copies vs Views](#reshape)  \n",
        "6. [Joining, Splitting, Set & Sorting Ops](#join)  \n",
        "7. [Arithmetic Ops, Universal Functions](#arithmetic)  \n",
        "8. [Broadcasting (Rules + Examples)](#broadcast)  \n",
        "9. [Statistics & Aggregations](#stats)  \n",
        "10. [Random Numbers & Reproducibility](#random)  \n",
        "11. [Structured / Recarrays](#structured)  \n",
        "12. [Linear Algebra Essentials](#linalg)  \n",
        "13. [File I/O (`npy`, `npz`, `txt`)](#io)  \n",
        "14. [Datetime64 & Timedelta64](#datetime)  \n",
        "15. [Masked Arrays & NaNs](#mask)  \n",
        "16. [Mini‑Project — Fitness Data Analysis](#project)  \n",
        "17. [Conclusion & Next Steps](#conclusion)  \n"
      ]
    },
    {
      "cell_type": "markdown",
      "id": "9170f3ee",
      "metadata": {
        "id": "9170f3ee"
      },
      "source": [
        "## <a name='setup'></a>1️⃣ Setup"
      ]
    },
    {
      "cell_type": "code",
      "execution_count": 1,
      "id": "4f54988f",
      "metadata": {
        "colab": {
          "base_uri": "https://localhost:8080/"
        },
        "id": "4f54988f",
        "outputId": "db1a270c-056c-476e-a060-220c810aceb9"
      },
      "outputs": [
        {
          "output_type": "stream",
          "name": "stdout",
          "text": [
            "NumPy version: 2.0.2\n"
          ]
        }
      ],
      "source": [
        "import numpy as np, math, os, pathlib, types, textwrap, random\n",
        "print('NumPy version:', np.__version__)"
      ]
    },
    {
      "cell_type": "markdown",
      "id": "c7f7b2c8",
      "metadata": {
        "id": "c7f7b2c8"
      },
      "source": [
        "## <a name='creation'></a>2️⃣ Array Creation & Dtypes"
      ]
    },
    {
      "cell_type": "markdown",
      "id": "47405152",
      "metadata": {
        "id": "47405152"
      },
      "source": [
        "Key functions: `np.array`, `np.arange`, `np.linspace`, `zeros`, `ones`, `full`, `eye`, `identity`, `diag`, `empty`"
      ]
    },
    {
      "cell_type": "code",
      "execution_count": 2,
      "id": "801e99ad",
      "metadata": {
        "colab": {
          "base_uri": "https://localhost:8080/"
        },
        "id": "801e99ad",
        "outputId": "1ca5bdc9-5a66-41ce-ec2c-cf50ff381d58"
      },
      "outputs": [
        {
          "output_type": "stream",
          "name": "stdout",
          "text": [
            "[1 2 3]\n",
            "[0.  0.2 0.4 0.6 0.8 1. ]\n",
            "[[7.5 7.5 7.5]\n",
            " [7.5 7.5 7.5]]\n",
            "dtypes: int32 float64\n"
          ]
        }
      ],
      "source": [
        "# EXAMPLE\n",
        "arr1 = np.array([1, 2, 3], dtype=np.int32)\n",
        "arr2 = np.linspace(0, 1, 6)\n",
        "arr3 = np.full((2,3), 7.5)\n",
        "print(arr1, arr2, arr3, sep=\"\\n\")\n",
        "print(\"dtypes:\", arr1.dtype, arr2.dtype)\n"
      ]
    },
    {
      "cell_type": "code",
      "execution_count": 12,
      "id": "dc63d076",
      "metadata": {
        "colab": {
          "base_uri": "https://localhost:8080/"
        },
        "id": "dc63d076",
        "outputId": "aea2eb31-f021-4936-db6d-f2c47d350b31"
      },
      "outputs": [
        {
          "output_type": "stream",
          "name": "stdout",
          "text": [
            "[[0 1 0 1 0 1 0 1 0 1]\n",
            " [1 0 1 0 1 0 1 0 1 0]\n",
            " [0 1 0 1 0 1 0 1 0 1]\n",
            " [1 0 1 0 1 0 1 0 1 0]\n",
            " [0 1 0 1 0 1 0 1 0 1]\n",
            " [1 0 1 0 1 0 1 0 1 0]\n",
            " [0 1 0 1 0 1 0 1 0 1]\n",
            " [1 0 1 0 1 0 1 0 1 0]\n",
            " [0 1 0 1 0 1 0 1 0 1]\n",
            " [1 0 1 0 1 0 1 0 1 0]]\n"
          ]
        }
      ],
      "source": [
        "# 🖊️ TODO: create a 10×10 chessboard pattern using zeros & ones\n",
        "chess_board = np.zeros((10,10), dtype=int)\n",
        "chess_board[1::2, ::2] = 1\n",
        "chess_board[::2, 1::2] = 1\n",
        "print(chess_board)"
      ]
    },
    {
      "cell_type": "markdown",
      "id": "925be762",
      "metadata": {
        "id": "925be762"
      },
      "source": [
        "## <a name='attributes'></a>3️⃣ Array Attributes & Inspection"
      ]
    },
    {
      "cell_type": "markdown",
      "id": "f103bb36",
      "metadata": {
        "id": "f103bb36"
      },
      "source": [
        "`shape`, `ndim`, `size`, `dtype`, `itemsize`, `nbytes`"
      ]
    },
    {
      "cell_type": "code",
      "execution_count": null,
      "id": "ad3eeda1",
      "metadata": {
        "id": "ad3eeda1"
      },
      "outputs": [],
      "source": [
        "M = np.arange(12).reshape(3,4)\n",
        "print('shape', M.shape, 'ndim', M.ndim, 'size', M.size, 'itemsize', M.itemsize, 'total bytes', M.nbytes)\n"
      ]
    },
    {
      "cell_type": "code",
      "execution_count": 18,
      "id": "5875fefe",
      "metadata": {
        "colab": {
          "base_uri": "https://localhost:8080/"
        },
        "id": "5875fefe",
        "outputId": "d8ae0301-cb81-44d5-883c-f9a1c692045d"
      },
      "outputs": [
        {
          "output_type": "stream",
          "name": "stdout",
          "text": [
            "Memory footprint of 1000x1000 float64 array: 8000000 bytes\n"
          ]
        }
      ],
      "source": [
        "# 🖊️ TODO: check memory footprint of a 1000×1000 float64 array\n",
        "arr_large = np.zeros((1000, 1000), dtype=np.float64)\n",
        "print(\"Memory footprint of 1000x1000 float64 array:\", arr_large.nbytes, \"bytes\")"
      ]
    },
    {
      "cell_type": "markdown",
      "id": "bd895660",
      "metadata": {
        "id": "bd895660"
      },
      "source": [
        "## <a name='indexing'></a>4️⃣ Indexing, Slicing & Fancy Indexing"
      ]
    },
    {
      "cell_type": "code",
      "execution_count": 16,
      "id": "5dc7d4c1",
      "metadata": {
        "colab": {
          "base_uri": "https://localhost:8080/"
        },
        "id": "5dc7d4c1",
        "outputId": "ae2e46dc-228c-4f4c-afa0-e1a85b8fadd1"
      },
      "outputs": [
        {
          "output_type": "stream",
          "name": "stdout",
          "text": [
            "[ 1  6 11 16 21]\n",
            "[[ 1  3  5]\n",
            " [11 13 15]\n",
            " [21 23 25]]\n",
            "multiples of 3: [ 3  6  9 12 15 18 21 24]\n"
          ]
        }
      ],
      "source": [
        "a = np.arange(1,26).reshape(5,5)\n",
        "print(a[:, 0])     # first column\n",
        "print(a[::2, ::2]) # every 2nd row/col\n",
        "mask = (a % 3 == 0)\n",
        "print('multiples of 3:', a[mask])\n"
      ]
    },
    {
      "cell_type": "code",
      "execution_count": 17,
      "id": "9c4bd5f4",
      "metadata": {
        "colab": {
          "base_uri": "https://localhost:8080/"
        },
        "id": "9c4bd5f4",
        "outputId": "dd3e211c-8de3-4c81-a1c3-2b2071407137"
      },
      "outputs": [
        {
          "output_type": "stream",
          "name": "stdout",
          "text": [
            "[[21 22 23 24 25]\n",
            " [ 6  7  8  9 10]\n",
            " [11 12 13 14 15]\n",
            " [16 17 18 19 20]\n",
            " [ 1  2  3  4  5]]\n"
          ]
        }
      ],
      "source": [
        "# 🖊️ TODO: use fancy indexing to swap first and last rows of `a`\n",
        "a[[0, -1], :] = a[[-1, 0], :]\n",
        "print(a)"
      ]
    },
    {
      "cell_type": "markdown",
      "id": "8f4de1d5",
      "metadata": {
        "id": "8f4de1d5"
      },
      "source": [
        "## <a name='reshape'></a>5️⃣ Reshaping, Transpose & Copies vs Views"
      ]
    },
    {
      "cell_type": "code",
      "execution_count": null,
      "id": "053b4ff4",
      "metadata": {
        "id": "053b4ff4"
      },
      "outputs": [],
      "source": [
        "b = np.arange(8)\n",
        "B = b.reshape(2,4)\n",
        "B[0,0] = 99\n",
        "print('b is modified:', b)\n",
        "C = b.reshape(2,4).copy()\n",
        "C[0,0] = -1\n",
        "print('b unchanged with copy:', b)\n"
      ]
    },
    {
      "cell_type": "code",
      "execution_count": 27,
      "id": "a3e599bd",
      "metadata": {
        "colab": {
          "base_uri": "https://localhost:8080/"
        },
        "id": "a3e599bd",
        "outputId": "8925dc33-446f-48cd-fc65-5b1c6100da3f"
      },
      "outputs": [
        {
          "output_type": "stream",
          "name": "stdout",
          "text": [
            "Original 3D array:\n",
            " [[[ 0  1  2  3]\n",
            "  [ 4  5  6  7]\n",
            "  [ 8  9 10 11]]\n",
            "\n",
            " [[12 13 14 15]\n",
            "  [16 17 18 19]\n",
            "  [20 21 22 23]]]\n",
            "\n",
            "Ravelled array (modified):\n",
            " [-1  1  2  3  4  5  6  7  8  9 10 11 12 13 14 15 16 17 18 19 20 21 22 23]\n",
            "Original 3D array after modifying raveled array:\n",
            " [[[-1  1  2  3]\n",
            "  [ 4  5  6  7]\n",
            "  [ 8  9 10 11]]\n",
            "\n",
            " [[12 13 14 15]\n",
            "  [16 17 18 19]\n",
            "  [20 21 22 23]]]\n",
            "\n",
            "Flattened array (modified):\n",
            " [99  1  2  3  4  5  6  7  8  9 10 11 12 13 14 15 16 17 18 19 20 21 22 23]\n",
            "Original 3D array after modifying flattened array:\n",
            " [[[-1  1  2  3]\n",
            "  [ 4  5  6  7]\n",
            "  [ 8  9 10 11]]\n",
            "\n",
            " [[12 13 14 15]\n",
            "  [16 17 18 19]\n",
            "  [20 21 22 23]]]\n"
          ]
        }
      ],
      "source": [
        "# 🖊️ TODO: Flatten a 3‑D array into 1‑D using both `ravel` and `flatten`; observe copy vs view.\n",
        "arr_3d = np.arange(24).reshape(2, 3, 4)\n",
        "print(\"Original 3D array:\\n\", arr_3d)\n",
        "\n",
        "# Using ravel\n",
        "ravelled_arr = arr_3d.ravel()\n",
        "ravelled_arr[0] = -1 # Modify the raveled array\n",
        "print(\"\\nRavelled array (modified):\\n\", ravelled_arr)\n",
        "print(\"Original 3D array after modifying raveled array:\\n\", arr_3d) # Check if original is modified\n",
        "\n",
        "# Using flatten\n",
        "flattened_arr = arr_3d.flatten()\n",
        "flattened_arr[0] = 99 # Modify the flattened array\n",
        "print(\"\\nFlattened array (modified):\\n\", flattened_arr)\n",
        "print(\"Original 3D array after modifying flattened array:\\n\", arr_3d) # Check if original is modified"
      ]
    },
    {
      "cell_type": "markdown",
      "id": "2390c4ae",
      "metadata": {
        "id": "2390c4ae"
      },
      "source": [
        "## <a name='join'></a>6️⃣ Joining, Splitting, Set & Sorting Ops"
      ]
    },
    {
      "cell_type": "code",
      "execution_count": 20,
      "id": "a53f640a",
      "metadata": {
        "colab": {
          "base_uri": "https://localhost:8080/"
        },
        "id": "a53f640a",
        "outputId": "b746318a-078f-468e-e0ec-83cb7d5438b2"
      },
      "outputs": [
        {
          "output_type": "stream",
          "name": "stdout",
          "text": [
            "union [1 2 3 4 5 6]\n",
            "intersect [1 2]\n",
            "sorted descending [6 5 4 3 2 1]\n"
          ]
        }
      ],
      "source": [
        "x = np.array([1,3,5]); y = np.array([2,4,6])\n",
        "xy = np.concatenate([x,y])\n",
        "print('union', np.union1d(x,y))\n",
        "print('intersect', np.intersect1d(xy,[1,2,10]))\n",
        "print('sorted descending', np.sort(xy)[::-1])\n"
      ]
    },
    {
      "cell_type": "code",
      "execution_count": 25,
      "id": "4231e729",
      "metadata": {
        "id": "4231e729"
      },
      "outputs": [],
      "source": [
        "# 🖊️ TODO: split `xy` back into two equal halves using `np.array_split`"
      ]
    },
    {
      "cell_type": "markdown",
      "id": "e6ebeb68",
      "metadata": {
        "id": "e6ebeb68"
      },
      "source": [
        "## <a name='arithmetic'></a>7️⃣ Arithmetic Ops & Universal Functions"
      ]
    },
    {
      "cell_type": "code",
      "execution_count": 22,
      "id": "04a6eda9",
      "metadata": {
        "colab": {
          "base_uri": "https://localhost:8080/"
        },
        "id": "04a6eda9",
        "outputId": "54d83e2c-89e5-4561-b23a-17787cc32fb8"
      },
      "outputs": [
        {
          "output_type": "stream",
          "name": "stdout",
          "text": [
            "exp [ 1.          2.71828183  7.3890561  20.08553692 54.59815003]\n",
            "sin [ 0.          0.84147098  0.90929743  0.14112001 -0.7568025 ]\n",
            "vectorised addition [10 11 12 13 14]\n"
          ]
        }
      ],
      "source": [
        "v = np.arange(5)\n",
        "print('exp', np.exp(v))\n",
        "print('sin', np.sin(v))\n",
        "print('vectorised addition', v + 10)\n"
      ]
    },
    {
      "cell_type": "code",
      "execution_count": 24,
      "id": "c011f422",
      "metadata": {
        "id": "c011f422"
      },
      "outputs": [],
      "source": [
        "# 🖊️ TODO: given degrees [0,30,45,60,90], compute radians and sin values."
      ]
    },
    {
      "cell_type": "markdown",
      "id": "7c9a5d70",
      "metadata": {
        "id": "7c9a5d70"
      },
      "source": [
        "## <a name='broadcast'></a>8️⃣ Broadcasting Rules"
      ]
    },
    {
      "cell_type": "markdown",
      "id": "aba2764d",
      "metadata": {
        "id": "aba2764d"
      },
      "source": [
        "Rules: compare dimensions from right → left; stretch size 1 dims; mismatch error."
      ]
    },
    {
      "cell_type": "code",
      "execution_count": null,
      "id": "6313899c",
      "metadata": {
        "id": "6313899c"
      },
      "outputs": [],
      "source": [
        "row = np.arange(5)\n",
        "col = np.arange(3).reshape(3,1)\n",
        "matrix = row + col  # broadcast to 3×5\n",
        "print(matrix)\n"
      ]
    },
    {
      "cell_type": "code",
      "execution_count": null,
      "id": "de718119",
      "metadata": {
        "id": "de718119"
      },
      "outputs": [],
      "source": [
        "# 🖊️ TODO: use broadcasting to create a 10×10 multiplication table.\n"
      ]
    },
    {
      "cell_type": "markdown",
      "id": "38a618c8",
      "metadata": {
        "id": "38a618c8"
      },
      "source": [
        "## <a name='stats'></a>9️⃣ Statistics & Aggregations"
      ]
    },
    {
      "cell_type": "code",
      "execution_count": null,
      "id": "af9ac70d",
      "metadata": {
        "id": "af9ac70d"
      },
      "outputs": [],
      "source": [
        "data = np.random.default_rng(0).integers(1, 100, size=(5,4))\n",
        "print('data\\n', data)\n",
        "print('row sums', data.sum(axis=1))\n",
        "print('col means', data.mean(axis=0))\n"
      ]
    },
    {
      "cell_type": "code",
      "execution_count": null,
      "id": "63adf5be",
      "metadata": {
        "id": "63adf5be"
      },
      "outputs": [],
      "source": [
        "# 🖊️ TODO: compute `np.percentile` (25th, 50th, 75th) of flattened `data`.\n"
      ]
    },
    {
      "cell_type": "markdown",
      "id": "8f3c00d7",
      "metadata": {
        "id": "8f3c00d7"
      },
      "source": [
        "## <a name='random'></a>🔟 Random Numbers & Reproducibility"
      ]
    },
    {
      "cell_type": "code",
      "execution_count": null,
      "id": "98016975",
      "metadata": {
        "id": "98016975"
      },
      "outputs": [],
      "source": [
        "rng = np.random.default_rng(42)\n",
        "rand_floats = rng.random(5)\n",
        "rand_ints = rng.integers(low=10, high=50, size=5)\n",
        "print(rand_floats, rand_ints)\n",
        "rng2 = np.random.default_rng(42)\n",
        "assert np.allclose(rand_floats, rng2.random(5))\n"
      ]
    },
    {
      "cell_type": "code",
      "execution_count": null,
      "id": "35dbadba",
      "metadata": {
        "id": "35dbadba"
      },
      "outputs": [],
      "source": [
        "# 🖊️ TODO: simulate rolling a fair six‑sided die 100 times; estimate proportion of 6s.\n"
      ]
    },
    {
      "cell_type": "markdown",
      "id": "6cdb04b2",
      "metadata": {
        "id": "6cdb04b2"
      },
      "source": [
        "## <a name='structured'></a>1️⃣1️⃣ Structured / Record Arrays"
      ]
    },
    {
      "cell_type": "code",
      "execution_count": null,
      "id": "d8f64e42",
      "metadata": {
        "id": "d8f64e42"
      },
      "outputs": [],
      "source": [
        "people = np.array([('Alice', 25, 55.0), ('Bob', 30, 85.5)],\n",
        "                   dtype=[('name','U10'), ('age','i4'), ('weight','f4')])\n",
        "print(people['name'], people['age'].mean())\n"
      ]
    },
    {
      "cell_type": "code",
      "execution_count": null,
      "id": "7a65fe1d",
      "metadata": {
        "id": "7a65fe1d"
      },
      "outputs": [],
      "source": [
        "# 🖊️ TODO: add a new field 'height' to the structured array using `np.lib.recfunctions.append_fields` (hint: pip install?).\n"
      ]
    },
    {
      "cell_type": "markdown",
      "id": "df5b617b",
      "metadata": {
        "id": "df5b617b"
      },
      "source": [
        "## <a name='linalg'></a>1️⃣2️⃣ Linear Algebra Essentials"
      ]
    },
    {
      "cell_type": "code",
      "execution_count": null,
      "id": "3f7fb475",
      "metadata": {
        "id": "3f7fb475"
      },
      "outputs": [],
      "source": [
        "A = np.random.random((3,3))\n",
        "b = np.random.random(3)\n",
        "x = np.linalg.solve(A, b)\n",
        "print('A·x ≈ b?', np.allclose(A.dot(x), b))\n"
      ]
    },
    {
      "cell_type": "code",
      "execution_count": null,
      "id": "a8fb02d7",
      "metadata": {
        "id": "a8fb02d7"
      },
      "outputs": [],
      "source": [
        "# 🖊️ TODO: compute eigenvalues of `A` using `np.linalg.eig`.\n"
      ]
    },
    {
      "cell_type": "markdown",
      "id": "e8fd753c",
      "metadata": {
        "id": "e8fd753c"
      },
      "source": [
        "## <a name='io'></a>1️⃣3️⃣ File I/O (`npy`, `npz`, `txt`)"
      ]
    },
    {
      "cell_type": "code",
      "execution_count": null,
      "id": "bd6dc026",
      "metadata": {
        "id": "bd6dc026"
      },
      "outputs": [],
      "source": [
        "np.save('array.npy', A)\n",
        "loaded = np.load('array.npy')\n",
        "print('loaded equals A?', np.allclose(loaded, A))\n",
        "np.savez('multi_arrays.npz', A=A, b=b)\n"
      ]
    },
    {
      "cell_type": "code",
      "execution_count": null,
      "id": "d9552893",
      "metadata": {
        "id": "d9552893"
      },
      "outputs": [],
      "source": [
        "# 🖊️ TODO: Use `np.savetxt` to write `data` (from stats section) to CSV then reload with `np.loadtxt`.\n"
      ]
    },
    {
      "cell_type": "markdown",
      "id": "f24f33e3",
      "metadata": {
        "id": "f24f33e3"
      },
      "source": [
        "## <a name='datetime'></a>1️⃣4️⃣ Datetime64 & Timedelta64"
      ]
    },
    {
      "cell_type": "code",
      "execution_count": null,
      "id": "3ce7b543",
      "metadata": {
        "id": "3ce7b543"
      },
      "outputs": [],
      "source": [
        "dates = np.arange('2023-01', '2023-04', dtype='datetime64[D]')\n",
        "delta = dates[1:] - dates[:-1]\n",
        "print(dates[:5], delta[0])\n"
      ]
    },
    {
      "cell_type": "code",
      "execution_count": null,
      "id": "e493d6f8",
      "metadata": {
        "id": "e493d6f8"
      },
      "outputs": [],
      "source": [
        "# 🖊️ TODO: find how many Mondays appear in `dates` array.\n"
      ]
    },
    {
      "cell_type": "markdown",
      "id": "636116b9",
      "metadata": {
        "id": "636116b9"
      },
      "source": [
        "## <a name='mask'></a>1️⃣5️⃣ Masked Arrays & NaNs"
      ]
    },
    {
      "cell_type": "code",
      "execution_count": null,
      "id": "ec30b3ee",
      "metadata": {
        "id": "ec30b3ee"
      },
      "outputs": [],
      "source": [
        "arr = np.array([1, 2, np.nan, 4, np.nan])\n",
        "masked = np.ma.masked_invalid(arr)\n",
        "print(masked.mean())\n"
      ]
    },
    {
      "cell_type": "code",
      "execution_count": null,
      "id": "1ead3a9c",
      "metadata": {
        "id": "1ead3a9c"
      },
      "outputs": [],
      "source": [
        "# 🖊️ TODO: replace NaNs with column means in a 2‑D array containing NaNs.\n"
      ]
    },
    {
      "cell_type": "markdown",
      "id": "509e6104",
      "metadata": {
        "id": "509e6104"
      },
      "source": [
        "## <a name='project'></a>1️⃣6️⃣ Mini‑Project: Fitness Data Analysis"
      ]
    },
    {
      "cell_type": "markdown",
      "id": "d867d3a6",
      "metadata": {
        "id": "d867d3a6"
      },
      "source": [
        "Load `fitness.txt` (tab‑separated) then follow prompts."
      ]
    },
    {
      "cell_type": "code",
      "execution_count": null,
      "id": "593e50db",
      "metadata": {
        "id": "593e50db"
      },
      "outputs": [],
      "source": [
        "fitness = np.genfromtxt('fitness.txt', delimiter='\\t', dtype=None, encoding=None, names=True)\n",
        "print('columns:', fitness.dtype.names, 'rows:', len(fitness))\n"
      ]
    },
    {
      "cell_type": "code",
      "execution_count": null,
      "id": "32e514d2",
      "metadata": {
        "id": "32e514d2"
      },
      "outputs": [],
      "source": [
        "# 🖊️ TODO: Monthly step count, sleep vs mood correlation, weekly summary, etc.\n"
      ]
    },
    {
      "cell_type": "markdown",
      "id": "e7c0e1dc",
      "metadata": {
        "id": "e7c0e1dc"
      },
      "source": [
        "## <a name='conclusion'></a>1️⃣7️⃣ Conclusion & Further Practice\n",
        "Congrats on covering **all core NumPy topics** from your five lecture notebooks!\n",
        "\n",
        "*Keep experimenting, read the official docs, and try converting your NumPy pipelines into Pandas or JAX for more fun.*"
      ]
    }
  ],
  "metadata": {
    "colab": {
      "provenance": [],
      "include_colab_link": true
    },
    "language_info": {
      "name": "python"
    },
    "kernelspec": {
      "name": "python3",
      "display_name": "Python 3"
    }
  },
  "nbformat": 4,
  "nbformat_minor": 5
}