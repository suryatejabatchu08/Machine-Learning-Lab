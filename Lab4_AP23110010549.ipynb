{
  "cells": [
    {
      "cell_type": "markdown",
      "metadata": {
        "id": "view-in-github",
        "colab_type": "text"
      },
      "source": [
        "<a href=\"https://colab.research.google.com/github/suryatejabatchu08/Machine-Learning-Lab/blob/main/Logistic_Regression.ipynb\" target=\"_parent\"><img src=\"https://colab.research.google.com/assets/colab-badge.svg\" alt=\"Open In Colab\"/></a>"
      ]
    },
    {
      "cell_type": "markdown",
      "metadata": {
        "id": "mYrt6yNl9PqC"
      },
      "source": [
        "<h2 align=\"center\"> Logistic Regression </h2>"
      ]
    },
    {
      "cell_type": "markdown",
      "metadata": {
        "id": "JMSS7Zol9PqF"
      },
      "source": [
        ""
      ]
    },
    {
      "cell_type": "markdown",
      "metadata": {
        "id": "61A2w46J9PqG"
      },
      "source": [
        "### Task 2: Load the Data and Libraries\n",
        "---"
      ]
    },
    {
      "cell_type": "code",
      "execution_count": 1,
      "metadata": {
        "id": "glD44Eff9PqH"
      },
      "outputs": [],
      "source": [
        "import numpy as np\n",
        "import matplotlib.pyplot as plt\n",
        "import seaborn as sns\n",
        "import pandas as pd\n",
        "plt.style.use(\"ggplot\")\n",
        "%matplotlib inline"
      ]
    },
    {
      "cell_type": "code",
      "execution_count": 2,
      "metadata": {
        "id": "3V15qOzP9PqI"
      },
      "outputs": [],
      "source": [
        "from pylab import rcParams\n",
        "rcParams['figure.figsize'] = 12, 8"
      ]
    },
    {
      "cell_type": "code",
      "execution_count": 3,
      "metadata": {
        "id": "jNzbpC8L9PqI"
      },
      "outputs": [],
      "source": [
        "df = pd.read_csv(\"/content/DMV_Written_Tests.csv\")"
      ]
    },
    {
      "cell_type": "code",
      "execution_count": 4,
      "metadata": {
        "colab": {
          "base_uri": "https://localhost:8080/",
          "height": 206
        },
        "id": "5ASFpbzj9PqI",
        "outputId": "5e973c40-460e-48ce-c762-ab486d1611f6"
      },
      "outputs": [
        {
          "output_type": "execute_result",
          "data": {
            "text/plain": [
              "   DMV_Test_1  DMV_Test_2  Results\n",
              "0   34.623660   78.024693        0\n",
              "1   30.286711   43.894998        0\n",
              "2   35.847409   72.902198        0\n",
              "3   60.182599   86.308552        1\n",
              "4   79.032736   75.344376        1"
            ],
            "text/html": [
              "\n",
              "  <div id=\"df-814750dc-6512-4fc2-9092-6fb198624fa8\" class=\"colab-df-container\">\n",
              "    <div>\n",
              "<style scoped>\n",
              "    .dataframe tbody tr th:only-of-type {\n",
              "        vertical-align: middle;\n",
              "    }\n",
              "\n",
              "    .dataframe tbody tr th {\n",
              "        vertical-align: top;\n",
              "    }\n",
              "\n",
              "    .dataframe thead th {\n",
              "        text-align: right;\n",
              "    }\n",
              "</style>\n",
              "<table border=\"1\" class=\"dataframe\">\n",
              "  <thead>\n",
              "    <tr style=\"text-align: right;\">\n",
              "      <th></th>\n",
              "      <th>DMV_Test_1</th>\n",
              "      <th>DMV_Test_2</th>\n",
              "      <th>Results</th>\n",
              "    </tr>\n",
              "  </thead>\n",
              "  <tbody>\n",
              "    <tr>\n",
              "      <th>0</th>\n",
              "      <td>34.623660</td>\n",
              "      <td>78.024693</td>\n",
              "      <td>0</td>\n",
              "    </tr>\n",
              "    <tr>\n",
              "      <th>1</th>\n",
              "      <td>30.286711</td>\n",
              "      <td>43.894998</td>\n",
              "      <td>0</td>\n",
              "    </tr>\n",
              "    <tr>\n",
              "      <th>2</th>\n",
              "      <td>35.847409</td>\n",
              "      <td>72.902198</td>\n",
              "      <td>0</td>\n",
              "    </tr>\n",
              "    <tr>\n",
              "      <th>3</th>\n",
              "      <td>60.182599</td>\n",
              "      <td>86.308552</td>\n",
              "      <td>1</td>\n",
              "    </tr>\n",
              "    <tr>\n",
              "      <th>4</th>\n",
              "      <td>79.032736</td>\n",
              "      <td>75.344376</td>\n",
              "      <td>1</td>\n",
              "    </tr>\n",
              "  </tbody>\n",
              "</table>\n",
              "</div>\n",
              "    <div class=\"colab-df-buttons\">\n",
              "\n",
              "  <div class=\"colab-df-container\">\n",
              "    <button class=\"colab-df-convert\" onclick=\"convertToInteractive('df-814750dc-6512-4fc2-9092-6fb198624fa8')\"\n",
              "            title=\"Convert this dataframe to an interactive table.\"\n",
              "            style=\"display:none;\">\n",
              "\n",
              "  <svg xmlns=\"http://www.w3.org/2000/svg\" height=\"24px\" viewBox=\"0 -960 960 960\">\n",
              "    <path d=\"M120-120v-720h720v720H120Zm60-500h600v-160H180v160Zm220 220h160v-160H400v160Zm0 220h160v-160H400v160ZM180-400h160v-160H180v160Zm440 0h160v-160H620v160ZM180-180h160v-160H180v160Zm440 0h160v-160H620v160Z\"/>\n",
              "  </svg>\n",
              "    </button>\n",
              "\n",
              "  <style>\n",
              "    .colab-df-container {\n",
              "      display:flex;\n",
              "      gap: 12px;\n",
              "    }\n",
              "\n",
              "    .colab-df-convert {\n",
              "      background-color: #E8F0FE;\n",
              "      border: none;\n",
              "      border-radius: 50%;\n",
              "      cursor: pointer;\n",
              "      display: none;\n",
              "      fill: #1967D2;\n",
              "      height: 32px;\n",
              "      padding: 0 0 0 0;\n",
              "      width: 32px;\n",
              "    }\n",
              "\n",
              "    .colab-df-convert:hover {\n",
              "      background-color: #E2EBFA;\n",
              "      box-shadow: 0px 1px 2px rgba(60, 64, 67, 0.3), 0px 1px 3px 1px rgba(60, 64, 67, 0.15);\n",
              "      fill: #174EA6;\n",
              "    }\n",
              "\n",
              "    .colab-df-buttons div {\n",
              "      margin-bottom: 4px;\n",
              "    }\n",
              "\n",
              "    [theme=dark] .colab-df-convert {\n",
              "      background-color: #3B4455;\n",
              "      fill: #D2E3FC;\n",
              "    }\n",
              "\n",
              "    [theme=dark] .colab-df-convert:hover {\n",
              "      background-color: #434B5C;\n",
              "      box-shadow: 0px 1px 3px 1px rgba(0, 0, 0, 0.15);\n",
              "      filter: drop-shadow(0px 1px 2px rgba(0, 0, 0, 0.3));\n",
              "      fill: #FFFFFF;\n",
              "    }\n",
              "  </style>\n",
              "\n",
              "    <script>\n",
              "      const buttonEl =\n",
              "        document.querySelector('#df-814750dc-6512-4fc2-9092-6fb198624fa8 button.colab-df-convert');\n",
              "      buttonEl.style.display =\n",
              "        google.colab.kernel.accessAllowed ? 'block' : 'none';\n",
              "\n",
              "      async function convertToInteractive(key) {\n",
              "        const element = document.querySelector('#df-814750dc-6512-4fc2-9092-6fb198624fa8');\n",
              "        const dataTable =\n",
              "          await google.colab.kernel.invokeFunction('convertToInteractive',\n",
              "                                                    [key], {});\n",
              "        if (!dataTable) return;\n",
              "\n",
              "        const docLinkHtml = 'Like what you see? Visit the ' +\n",
              "          '<a target=\"_blank\" href=https://colab.research.google.com/notebooks/data_table.ipynb>data table notebook</a>'\n",
              "          + ' to learn more about interactive tables.';\n",
              "        element.innerHTML = '';\n",
              "        dataTable['output_type'] = 'display_data';\n",
              "        await google.colab.output.renderOutput(dataTable, element);\n",
              "        const docLink = document.createElement('div');\n",
              "        docLink.innerHTML = docLinkHtml;\n",
              "        element.appendChild(docLink);\n",
              "      }\n",
              "    </script>\n",
              "  </div>\n",
              "\n",
              "\n",
              "    <div id=\"df-8d03380c-7d88-4ce1-bac3-fefdb9cc0f90\">\n",
              "      <button class=\"colab-df-quickchart\" onclick=\"quickchart('df-8d03380c-7d88-4ce1-bac3-fefdb9cc0f90')\"\n",
              "                title=\"Suggest charts\"\n",
              "                style=\"display:none;\">\n",
              "\n",
              "<svg xmlns=\"http://www.w3.org/2000/svg\" height=\"24px\"viewBox=\"0 0 24 24\"\n",
              "     width=\"24px\">\n",
              "    <g>\n",
              "        <path d=\"M19 3H5c-1.1 0-2 .9-2 2v14c0 1.1.9 2 2 2h14c1.1 0 2-.9 2-2V5c0-1.1-.9-2-2-2zM9 17H7v-7h2v7zm4 0h-2V7h2v10zm4 0h-2v-4h2v4z\"/>\n",
              "    </g>\n",
              "</svg>\n",
              "      </button>\n",
              "\n",
              "<style>\n",
              "  .colab-df-quickchart {\n",
              "      --bg-color: #E8F0FE;\n",
              "      --fill-color: #1967D2;\n",
              "      --hover-bg-color: #E2EBFA;\n",
              "      --hover-fill-color: #174EA6;\n",
              "      --disabled-fill-color: #AAA;\n",
              "      --disabled-bg-color: #DDD;\n",
              "  }\n",
              "\n",
              "  [theme=dark] .colab-df-quickchart {\n",
              "      --bg-color: #3B4455;\n",
              "      --fill-color: #D2E3FC;\n",
              "      --hover-bg-color: #434B5C;\n",
              "      --hover-fill-color: #FFFFFF;\n",
              "      --disabled-bg-color: #3B4455;\n",
              "      --disabled-fill-color: #666;\n",
              "  }\n",
              "\n",
              "  .colab-df-quickchart {\n",
              "    background-color: var(--bg-color);\n",
              "    border: none;\n",
              "    border-radius: 50%;\n",
              "    cursor: pointer;\n",
              "    display: none;\n",
              "    fill: var(--fill-color);\n",
              "    height: 32px;\n",
              "    padding: 0;\n",
              "    width: 32px;\n",
              "  }\n",
              "\n",
              "  .colab-df-quickchart:hover {\n",
              "    background-color: var(--hover-bg-color);\n",
              "    box-shadow: 0 1px 2px rgba(60, 64, 67, 0.3), 0 1px 3px 1px rgba(60, 64, 67, 0.15);\n",
              "    fill: var(--button-hover-fill-color);\n",
              "  }\n",
              "\n",
              "  .colab-df-quickchart-complete:disabled,\n",
              "  .colab-df-quickchart-complete:disabled:hover {\n",
              "    background-color: var(--disabled-bg-color);\n",
              "    fill: var(--disabled-fill-color);\n",
              "    box-shadow: none;\n",
              "  }\n",
              "\n",
              "  .colab-df-spinner {\n",
              "    border: 2px solid var(--fill-color);\n",
              "    border-color: transparent;\n",
              "    border-bottom-color: var(--fill-color);\n",
              "    animation:\n",
              "      spin 1s steps(1) infinite;\n",
              "  }\n",
              "\n",
              "  @keyframes spin {\n",
              "    0% {\n",
              "      border-color: transparent;\n",
              "      border-bottom-color: var(--fill-color);\n",
              "      border-left-color: var(--fill-color);\n",
              "    }\n",
              "    20% {\n",
              "      border-color: transparent;\n",
              "      border-left-color: var(--fill-color);\n",
              "      border-top-color: var(--fill-color);\n",
              "    }\n",
              "    30% {\n",
              "      border-color: transparent;\n",
              "      border-left-color: var(--fill-color);\n",
              "      border-top-color: var(--fill-color);\n",
              "      border-right-color: var(--fill-color);\n",
              "    }\n",
              "    40% {\n",
              "      border-color: transparent;\n",
              "      border-right-color: var(--fill-color);\n",
              "      border-top-color: var(--fill-color);\n",
              "    }\n",
              "    60% {\n",
              "      border-color: transparent;\n",
              "      border-right-color: var(--fill-color);\n",
              "    }\n",
              "    80% {\n",
              "      border-color: transparent;\n",
              "      border-right-color: var(--fill-color);\n",
              "      border-bottom-color: var(--fill-color);\n",
              "    }\n",
              "    90% {\n",
              "      border-color: transparent;\n",
              "      border-bottom-color: var(--fill-color);\n",
              "    }\n",
              "  }\n",
              "</style>\n",
              "\n",
              "      <script>\n",
              "        async function quickchart(key) {\n",
              "          const quickchartButtonEl =\n",
              "            document.querySelector('#' + key + ' button');\n",
              "          quickchartButtonEl.disabled = true;  // To prevent multiple clicks.\n",
              "          quickchartButtonEl.classList.add('colab-df-spinner');\n",
              "          try {\n",
              "            const charts = await google.colab.kernel.invokeFunction(\n",
              "                'suggestCharts', [key], {});\n",
              "          } catch (error) {\n",
              "            console.error('Error during call to suggestCharts:', error);\n",
              "          }\n",
              "          quickchartButtonEl.classList.remove('colab-df-spinner');\n",
              "          quickchartButtonEl.classList.add('colab-df-quickchart-complete');\n",
              "        }\n",
              "        (() => {\n",
              "          let quickchartButtonEl =\n",
              "            document.querySelector('#df-8d03380c-7d88-4ce1-bac3-fefdb9cc0f90 button');\n",
              "          quickchartButtonEl.style.display =\n",
              "            google.colab.kernel.accessAllowed ? 'block' : 'none';\n",
              "        })();\n",
              "      </script>\n",
              "    </div>\n",
              "\n",
              "    </div>\n",
              "  </div>\n"
            ],
            "application/vnd.google.colaboratory.intrinsic+json": {
              "type": "dataframe",
              "variable_name": "df",
              "summary": "{\n  \"name\": \"df\",\n  \"rows\": 100,\n  \"fields\": [\n    {\n      \"column\": \"DMV_Test_1\",\n      \"properties\": {\n        \"dtype\": \"number\",\n        \"std\": 19.458222275425072,\n        \"min\": 30.05882244669796,\n        \"max\": 99.82785779692128,\n        \"num_unique_values\": 100,\n        \"samples\": [\n          57.23870631569862,\n          34.52451385320009,\n          32.72283304060323\n        ],\n        \"semantic_type\": \"\",\n        \"description\": \"\"\n      }\n    },\n    {\n      \"column\": \"DMV_Test_2\",\n      \"properties\": {\n        \"dtype\": \"number\",\n        \"std\": 18.582783039307344,\n        \"min\": 30.60326323428011,\n        \"max\": 98.86943574220612,\n        \"num_unique_values\": 100,\n        \"samples\": [\n          59.51428198012956,\n          60.39634245837173,\n          43.30717306430063\n        ],\n        \"semantic_type\": \"\",\n        \"description\": \"\"\n      }\n    },\n    {\n      \"column\": \"Results\",\n      \"properties\": {\n        \"dtype\": \"number\",\n        \"std\": 0,\n        \"min\": 0,\n        \"max\": 1,\n        \"num_unique_values\": 2,\n        \"samples\": [\n          1,\n          0\n        ],\n        \"semantic_type\": \"\",\n        \"description\": \"\"\n      }\n    }\n  ]\n}"
            }
          },
          "metadata": {},
          "execution_count": 4
        }
      ],
      "source": [
        "df.head()"
      ]
    },
    {
      "cell_type": "code",
      "execution_count": 5,
      "metadata": {
        "id": "tTGn8sZb9PqJ"
      },
      "outputs": [],
      "source": [
        "def minmax(a):\n",
        "    return (a - a.min()) / (a.max() - a.min())"
      ]
    },
    {
      "cell_type": "code",
      "source": [
        "test_1 = minmax(df['DMV_Test_1'].values)\n",
        "test_2 = minmax(df['DMV_Test_2'].values)\n",
        "y = df['Results'].values.astype(float)\n",
        "X = np.column_stack((test_1, test_2))"
      ],
      "metadata": {
        "id": "0NfWNXK4C8HU"
      },
      "execution_count": 8,
      "outputs": []
    },
    {
      "cell_type": "code",
      "source": [
        "X"
      ],
      "metadata": {
        "colab": {
          "base_uri": "https://localhost:8080/"
        },
        "id": "K5-rAJfjDku7",
        "outputId": "d1a8b686-4ee2-405e-9552-7e0c49faf997"
      },
      "execution_count": 9,
      "outputs": [
        {
          "output_type": "execute_result",
          "data": {
            "text/plain": [
              "array([[0.06542784, 0.69465488],\n",
              "       [0.00326632, 0.19470455],\n",
              "       [0.08296784, 0.61961779],\n",
              "       [0.43176427, 0.81600135],\n",
              "       [0.7019434 , 0.65539214],\n",
              "       [0.2153456 , 0.37665959],\n",
              "       [0.44500891, 0.96545859],\n",
              "       [0.64449684, 0.23365526],\n",
              "       [0.65989108, 0.83229079],\n",
              "       [0.77934283, 0.18940757],\n",
              "       [0.94315096, 0.11165142],\n",
              "       [0.64433793, 0.        ],\n",
              "       [0.74887421, 0.67205614],\n",
              "       [0.56336978, 0.98314328],\n",
              "       [0.13586997, 0.6655353 ],\n",
              "       [0.34273413, 0.85846452],\n",
              "       [0.55914951, 0.32427783],\n",
              "       [0.5430494 , 0.23547989],\n",
              "       [0.58195856, 0.91295399],\n",
              "       [0.67250409, 0.24862534],\n",
              "       [0.53481039, 0.17922749],\n",
              "       [0.85450448, 0.51557164],\n",
              "       [0.29348214, 0.26737325],\n",
              "       [0.05952839, 0.19931197],\n",
              "       [0.68605319, 0.56205138],\n",
              "       [0.46169753, 0.57643769],\n",
              "       [0.71853306, 0.20827835],\n",
              "       [0.90377581, 0.12008007],\n",
              "       [0.45537943, 0.28788555],\n",
              "       [0.12508388, 0.50379883],\n",
              "       [0.44891644, 0.61823627],\n",
              "       [0.7932702 , 0.38743524],\n",
              "       [0.3160307 , 0.47643451],\n",
              "       [0.31513382, 0.56879704],\n",
              "       [0.14588236, 0.59421062],\n",
              "       [0.35225201, 0.31656415],\n",
              "       [0.05527778, 1.        ],\n",
              "       [0.48901588, 0.73689201],\n",
              "       [0.64112153, 0.16069675],\n",
              "       [0.05912103, 0.65382979],\n",
              "       [0.77174023, 0.37653763],\n",
              "       [0.3080005 , 0.23808317],\n",
              "       [0.92282407, 0.51219597],\n",
              "       [0.74975856, 0.14670505],\n",
              "       [0.30083445, 0.2229426 ],\n",
              "       [0.4610047 , 0.31432447],\n",
              "       [0.67557495, 0.58381678],\n",
              "       [0.97052763, 0.82214305],\n",
              "       [0.45886031, 0.9692291 ],\n",
              "       [0.88156804, 0.85097827],\n",
              "       [0.71501627, 0.63808845],\n",
              "       [0.99204044, 0.44525373],\n",
              "       [0.86697331, 0.18731589],\n",
              "       [0.06400678, 0.43642522],\n",
              "       [0.28992337, 0.28127072],\n",
              "       [0.27989286, 0.42782079],\n",
              "       [0.96872217, 0.56042851],\n",
              "       [0.03609592, 0.95208625],\n",
              "       [0.63337365, 0.57453504],\n",
              "       [0.59822584, 0.70093719],\n",
              "       [0.64981247, 0.80796493],\n",
              "       [0.07492278, 0.24048881],\n",
              "       [0.37545302, 0.12683016],\n",
              "       [0.        , 0.2781716 ],\n",
              "       [0.20939718, 0.52510375],\n",
              "       [0.52318442, 0.15364615],\n",
              "       [0.14904504, 0.98045518],\n",
              "       [0.27252406, 0.31172025],\n",
              "       [0.71981433, 0.90107289],\n",
              "       [0.52584783, 0.44514186],\n",
              "       [0.03818328, 0.18609378],\n",
              "       [0.48704268, 0.69475735],\n",
              "       [0.60610945, 0.96130085],\n",
              "       [0.43570996, 0.62244203],\n",
              "       [0.4125345 , 0.66292255],\n",
              "       [1.        , 0.6118109 ],\n",
              "       [0.24660577, 0.84774933],\n",
              "       [0.29238382, 0.66221079],\n",
              "       [0.43567657, 0.17439305],\n",
              "       [0.74772195, 0.17749077],\n",
              "       [0.84357013, 0.57423061],\n",
              "       [0.92843027, 0.22106181],\n",
              "       [0.53405404, 0.52714381],\n",
              "       [0.38956944, 0.42350432],\n",
              "       [0.72106391, 0.88414045],\n",
              "       [0.55052645, 0.8055387 ],\n",
              "       [0.17223446, 0.70666805],\n",
              "       [0.65098907, 0.87629456],\n",
              "       [0.69624872, 0.96745081],\n",
              "       [0.31947097, 0.44189151],\n",
              "       [0.91782133, 0.68197528],\n",
              "       [0.86556634, 0.83358311],\n",
              "       [0.36439287, 0.07276576],\n",
              "       [0.63687092, 0.79456445],\n",
              "       [0.8569272 , 0.21613956],\n",
              "       [0.76581739, 0.26040749],\n",
              "       [0.17490393, 0.82765132],\n",
              "       [0.99264933, 0.55916635],\n",
              "       [0.36235552, 0.50286509],\n",
              "       [0.64093004, 0.86318813]])"
            ]
          },
          "metadata": {},
          "execution_count": 9
        }
      ]
    },
    {
      "cell_type": "markdown",
      "metadata": {
        "id": "Rq_-3C4g9PqK"
      },
      "source": [
        "### Task 3: Visualize the Data\n",
        "---"
      ]
    },
    {
      "cell_type": "code",
      "execution_count": 9,
      "metadata": {
        "colab": {
          "base_uri": "https://localhost:8080/",
          "height": 723
        },
        "id": "HRfzeUcl9PqK",
        "outputId": "2d4196d4-0b27-40e3-dfef-a8b9bdc039bc"
      },
      "outputs": [
        {
          "output_type": "display_data",
          "data": {
            "text/plain": [
              "<Figure size 1200x800 with 1 Axes>"
            ],
            "image/png": "[encoded data removed]"
          },
          "metadata": {}
        }
      ],
      "source": [
        "sns.scatterplot(x='DMV_Test_1', y='DMV_Test_2', hue='Results', data=df)\n",
        "plt.xlabel('DMV Test 1 Score')\n",
        "plt.ylabel('DMV Test 2 Score')\n",
        "plt.title('DMV Test Results')\n",
        "plt.show()"
      ]
    },
    {
      "cell_type": "code",
      "source": [
        "plt.figure()\n",
        "plt.scatter(X[y==0,0], X[y==0,1], label='(y=0)')\n",
        "plt.scatter(X[y==1,0], X[y==1,1], label='(y=1)')\n",
        "plt.xlabel('Test 1 (scaled 0-1)')\n",
        "plt.ylabel('Test 2 (scaled 0-1)')\n",
        "plt.legend()\n",
        "plt.title('DMV (scaled)')\n",
        "plt.tight_layout()\n",
        "plt.show()"
      ],
      "metadata": {
        "colab": {
          "base_uri": "https://localhost:8080/",
          "height": 807
        },
        "id": "qfDsLP-ND7qy",
        "outputId": "07fa85b3-e6bc-4e55-b406-65862fb6cab2"
      },
      "execution_count": 12,
      "outputs": [
        {
          "output_type": "display_data",
          "data": {
            "text/plain": [
              "<Figure size 1200x800 with 1 Axes>"
            ],
            "image/png": "[encoded data removed]"
          },
          "metadata": {}
        }
      ]
    },
    {
      "cell_type": "markdown",
      "metadata": {
        "id": "ffl6JZD-9PqK"
      },
      "source": [
        "### Task 4: Define the Logistic Sigmoid Function $\\sigma(z)$\n",
        "---\n",
        "\n",
        "$$ \\sigma(z) = \\frac{1}{1+e^{-z}}$$"
      ]
    },
    {
      "cell_type": "markdown",
      "source": [
        "#### Notes\n",
        "\n",
        "Sigmoid Function maps any input value in between 0 and 1"
      ],
      "metadata": {
        "id": "m2WaONOFAdLB"
      }
    },
    {
      "cell_type": "code",
      "execution_count": 13,
      "metadata": {
        "id": "a8BYSuWw9PqK"
      },
      "outputs": [],
      "source": [
        "def sigmoid(z):\n",
        "  return 1 / (1 + np.exp(-z))"
      ]
    },
    {
      "cell_type": "code",
      "execution_count": 14,
      "metadata": {
        "colab": {
          "base_uri": "https://localhost:8080/"
        },
        "id": "tif2SLrI9PqL",
        "outputId": "1470ce11-058d-4251-fd17-a3b1d8f3685d"
      },
      "outputs": [
        {
          "output_type": "stream",
          "name": "stdout",
          "text": [
            "0.9933071490757153\n"
          ]
        }
      ],
      "source": [
        "print(sigmoid(5)) #sample test"
      ]
    },
    {
      "cell_type": "markdown",
      "metadata": {
        "id": "dc11daz79PqL"
      },
      "source": [
        "### Task 5: Compute the Cost Function $J(\\theta)$ and Gradient\n",
        "---"
      ]
    },
    {
      "cell_type": "markdown",
      "metadata": {
        "id": "K-EPRGD79PqL"
      },
      "source": [
        "The objective of logistic regression is to minimize the cost function\n",
        "\n",
        "$$J(\\theta) = -\\frac{1}{m} \\sum_{i=1}^{m} [ y^{(i)}log(h_{\\theta}(x^{(i)})) + (1 - y^{(i)})log(1 - (h_{\\theta}(x^{(i)}))]$$\n",
        "\n",
        "where the gradient of the cost function is given by\n",
        "\n",
        "$$ \\frac{\\partial J(\\theta)}{\\partial \\theta_j} = \\frac{1}{m} \\sum_{i=1}^{m} (h_{\\theta}(x^{(i)}) - y^{(i)})x_j^{(i)}$$"
      ]
    },
    {
      "cell_type": "code",
      "execution_count": 15,
      "metadata": {
        "id": "v1v13ogD9PqL"
      },
      "outputs": [],
      "source": [
        "def log_loss(p,y):\n",
        "  eps = 1e-12\n",
        "  p = np.clip(p, eps, 1-eps)\n",
        "  return -np.mean(y*np.log(p) + (1-y)*np.log(1-p))"
      ]
    },
    {
      "cell_type": "code",
      "source": [],
      "metadata": {
        "id": "4WJ3C1KHFJS-"
      },
      "execution_count": null,
      "outputs": []
    },
    {
      "cell_type": "markdown",
      "metadata": {
        "id": "EfvpDT_Y9PqM"
      },
      "source": [
        "### Task 6: Cost and Gradient at Initialization\n",
        "---"
      ]
    },
    {
      "cell_type": "code",
      "execution_count": 16,
      "metadata": {
        "id": "_wvqsl7M9PqM"
      },
      "outputs": [],
      "source": [
        "def cost_function(x,y):\n",
        "  m = len(y)\n",
        "  return -(1/m)*np.sum(y*np.log(x) + (1-y)*np.log(1-x))"
      ]
    },
    {
      "cell_type": "code",
      "execution_count": null,
      "metadata": {
        "id": "E9mxSUnL9PqM"
      },
      "outputs": [],
      "source": [
        "def gradient():\n",
        "  return (1/m) * np.sum(x)"
      ]
    },
    {
      "cell_type": "markdown",
      "metadata": {
        "id": "wngadnB_9PqM"
      },
      "source": [
        ""
      ]
    },
    {
      "cell_type": "markdown",
      "metadata": {
        "id": "AyfJ94Bg9PqN"
      },
      "source": [
        "### Task 7: Gradient Descent\n",
        "---"
      ]
    },
    {
      "cell_type": "markdown",
      "metadata": {
        "id": "Yrmm3ILn9PqN"
      },
      "source": [
        "Minimize the cost function $J(\\theta)$ by updating the below equation and repeat until convergence\n",
        "$\\theta_j := \\theta_j - \\alpha \\frac{\\partial J(\\theta)}{\\partial \\theta_j}$ (simultaneously update $\\theta_j$ for all $j$)"
      ]
    },
    {
      "cell_type": "code",
      "execution_count": null,
      "metadata": {
        "id": "yWCidqwe9PqN"
      },
      "outputs": [],
      "source": []
    },
    {
      "cell_type": "code",
      "execution_count": null,
      "metadata": {
        "id": "VcUcYnSL9PqN"
      },
      "outputs": [],
      "source": []
    },
    {
      "cell_type": "code",
      "execution_count": null,
      "metadata": {
        "id": "DZ66LkoC9PqN"
      },
      "outputs": [],
      "source": []
    },
    {
      "cell_type": "markdown",
      "metadata": {
        "id": "9tyAarHS9PqN"
      },
      "source": [
        ""
      ]
    },
    {
      "cell_type": "markdown",
      "metadata": {
        "id": "nUnyHUzF9PqO"
      },
      "source": [
        "### Task 8: Plotting the Convergence of $J(\\theta)$\n",
        "---"
      ]
    },
    {
      "cell_type": "markdown",
      "metadata": {
        "id": "1GhDsTXN9PqO"
      },
      "source": [
        "Plot $J(\\theta)$ against the number of iterations of gradient descent:"
      ]
    },
    {
      "cell_type": "code",
      "execution_count": null,
      "metadata": {
        "id": "TTeGBXtk9PqO"
      },
      "outputs": [],
      "source": []
    },
    {
      "cell_type": "code",
      "execution_count": null,
      "metadata": {
        "id": "6X_WufzY9PqO"
      },
      "outputs": [],
      "source": []
    },
    {
      "cell_type": "markdown",
      "metadata": {
        "id": "yAKIg4lk9PqO"
      },
      "source": [
        ""
      ]
    },
    {
      "cell_type": "markdown",
      "metadata": {
        "id": "bJ_Pkm279PqO"
      },
      "source": [
        "### Task 9: Plotting the decision boundary\n",
        "---"
      ]
    },
    {
      "cell_type": "markdown",
      "metadata": {
        "id": "2TNGwXz79PqP"
      },
      "source": [
        "$h_\\theta(x) = \\sigma(z)$, where $\\sigma$ is the logistic sigmoid function and $z = \\theta^Tx$\n",
        "\n",
        "When $h_\\theta(x) \\geq 0.5$ the model predicts class \"1\":\n",
        "\n",
        "$\\implies \\sigma(\\theta^Tx) \\geq 0.5$\n",
        "\n",
        "$\\implies \\theta^Tx \\geq 0$ predict class \"1\"\n",
        "\n",
        "Hence, $\\theta_1 + \\theta_2x_2 + \\theta_3x_3 = 0$ is the equation for the decision boundary, giving us\n",
        "\n",
        "$ x_3 = \\frac{-(\\theta_1+\\theta_2x_2)}{\\theta_3}$"
      ]
    },
    {
      "cell_type": "code",
      "execution_count": null,
      "metadata": {
        "id": "UDHxnOlM9PqP"
      },
      "outputs": [],
      "source": []
    },
    {
      "cell_type": "code",
      "execution_count": null,
      "metadata": {
        "id": "RlwK2sEc9PqP"
      },
      "outputs": [],
      "source": []
    },
    {
      "cell_type": "markdown",
      "metadata": {
        "id": "vfEaJkK-9PqP"
      },
      "source": [
        ""
      ]
    },
    {
      "cell_type": "markdown",
      "metadata": {
        "id": "Q3Ubj8QT9PqQ"
      },
      "source": [
        "### Task 10: Predictions using the optimized $\\theta$ values\n",
        "---"
      ]
    },
    {
      "cell_type": "markdown",
      "metadata": {
        "id": "_r-XK1gL9PqQ"
      },
      "source": [
        "$h_\\theta(x) = x\\theta$"
      ]
    },
    {
      "cell_type": "code",
      "execution_count": null,
      "metadata": {
        "id": "w3W4nHK29PqR"
      },
      "outputs": [],
      "source": []
    },
    {
      "cell_type": "code",
      "execution_count": null,
      "metadata": {
        "id": "x0BONrwg9PqS"
      },
      "outputs": [],
      "source": []
    },
    {
      "cell_type": "code",
      "execution_count": null,
      "metadata": {
        "id": "4uGFQqxJ9PqS"
      },
      "outputs": [],
      "source": []
    }
  ],
  "metadata": {
    "kernelspec": {
      "display_name": "Python 3 (ipykernel)",
      "language": "python",
      "name": "python3"
    },
    "language_info": {
      "codemirror_mode": {
        "name": "ipython",
        "version": 3
      },
      "file_extension": ".py",
      "mimetype": "text/x-python",
      "name": "python",
      "nbconvert_exporter": "python",
      "pygments_lexer": "ipython3",
      "version": "3.10.6"
    },
    "colab": {
      "provenance": [],
      "include_colab_link": true
    }
  },
  "nbformat": 4,
  "nbformat_minor": 0
}
